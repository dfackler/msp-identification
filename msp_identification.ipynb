{
 "cells": [
  {
   "cell_type": "code",
   "execution_count": 2,
   "metadata": {},
   "outputs": [],
   "source": [
    "library(dplyr)\n",
    "library(readr)\n"
   ]
  },
  {
   "cell_type": "code",
   "execution_count": 18,
   "metadata": {},
   "outputs": [],
   "source": [
    "base_dir <- \"/Users/dfackler/Desktop/domains\""
   ]
  },
  {
   "cell_type": "code",
   "execution_count": 24,
   "metadata": {},
   "outputs": [],
   "source": [
    "# issue reading file because some domain_name fields contain multiple sites separated by comma\n",
    "# workaround: swap column delim to tab\n",
    "# also remove {} wrapping while here\n",
    "tx  <- readLines(paste(base_dir, \"labels.txt\", sep = \"/\"))\n",
    "tx2 <- gsub(pattern = \"},\", replace = \"}\\t\", x = tx) # handle input lines\n",
    "tx2 <- gsub(pattern = \"domain_names,\\\"label\\\"\", replace = \"domain_names\\tlabel\", x = tx2) # handle header row\n",
    "tx2 <- gsub(pattern = \"\\\\{\", replace = \"\", x = tx2) # wipe open bracket\n",
    "tx2 <- gsub(pattern = \"}\", replace = \"\", x = tx2) # wipe closing bracket\n",
    "writeLines(tx2, con=paste(base_dir, \"labels_tab.txt\", sep = \"/\"))"
   ]
  },
  {
   "cell_type": "code",
   "execution_count": 129,
   "metadata": {},
   "outputs": [],
   "source": [
    "library(stringr)"
   ]
  },
  {
   "cell_type": "code",
   "execution_count": 153,
   "metadata": {},
   "outputs": [
    {
     "name": "stderr",
     "output_type": "stream",
     "text": [
      "Parsed with column specification:\n",
      "cols(\n",
      "  domain_names = col_character(),\n",
      "  label = col_logical()\n",
      ")\n"
     ]
    },
    {
     "data": {
      "text/html": [
       "<table>\n",
       "<thead><tr><th scope=col>domain_names</th><th scope=col>label</th></tr></thead>\n",
       "<tbody>\n",
       "\t<tr><td>advantage-title.com</td><td>FALSE              </td></tr>\n",
       "\t<tr><td>bynumlawnc.com     </td><td>FALSE              </td></tr>\n",
       "\t<tr><td>philiegroup.com    </td><td>FALSE              </td></tr>\n",
       "\t<tr><td>gwiktn.org         </td><td>FALSE              </td></tr>\n",
       "\t<tr><td>firstduesizeup.com </td><td>FALSE              </td></tr>\n",
       "\t<tr><td>medlifemovement.org</td><td>FALSE              </td></tr>\n",
       "</tbody>\n",
       "</table>\n"
      ],
      "text/latex": [
       "\\begin{tabular}{r|ll}\n",
       " domain\\_names & label\\\\\n",
       "\\hline\n",
       "\t advantage-title.com & FALSE              \\\\\n",
       "\t bynumlawnc.com      & FALSE              \\\\\n",
       "\t philiegroup.com     & FALSE              \\\\\n",
       "\t gwiktn.org          & FALSE              \\\\\n",
       "\t firstduesizeup.com  & FALSE              \\\\\n",
       "\t medlifemovement.org & FALSE              \\\\\n",
       "\\end{tabular}\n"
      ],
      "text/markdown": [
       "\n",
       "| domain_names | label |\n",
       "|---|---|\n",
       "| advantage-title.com | FALSE               |\n",
       "| bynumlawnc.com      | FALSE               |\n",
       "| philiegroup.com     | FALSE               |\n",
       "| gwiktn.org          | FALSE               |\n",
       "| firstduesizeup.com  | FALSE               |\n",
       "| medlifemovement.org | FALSE               |\n",
       "\n"
      ],
      "text/plain": [
       "  domain_names        label\n",
       "1 advantage-title.com FALSE\n",
       "2 bynumlawnc.com      FALSE\n",
       "3 philiegroup.com     FALSE\n",
       "4 gwiktn.org          FALSE\n",
       "5 firstduesizeup.com  FALSE\n",
       "6 medlifemovement.org FALSE"
      ]
     },
     "metadata": {},
     "output_type": "display_data"
    }
   ],
   "source": [
    "# load labels.txt\n",
    "labels <- read_delim(\"/Users/dfackler/Desktop/domains/labels_tab.txt\", delim = \"\\t\", col_names = TRUE)\n",
    "colnames(labels) <- c(\"domain_names\", \"label\")\n",
    "head(labels)\n"
   ]
  },
  {
   "cell_type": "code",
   "execution_count": 154,
   "metadata": {},
   "outputs": [],
   "source": [
    "# split out comma separated rows\n",
    "rows_to_split <- grep(\",\", labels$domain_names)\n",
    "split_domains <- str_split(labels$domain_names[rows_to_split], \",\")\n",
    "tmp_dfs <- list()\n",
    "for(i in 1:length(split_domains)){\n",
    "    tmp_dfs[[i]] <- data.frame(split_domains[i], \n",
    "                         labels$label[rows_to_split[i]], stringsAsFactors = FALSE)\n",
    "    colnames(tmp_dfs[[i]]) <- c(\"domain_names\", \"label\")\n",
    "}\n",
    "# collapse list of dataframes to single dataframe\n",
    "split_df <- do.call(\"rbind\", tmp_dfs)\n"
   ]
  },
  {
   "cell_type": "code",
   "execution_count": 155,
   "metadata": {},
   "outputs": [
    {
     "name": "stdout",
     "output_type": "stream",
     "text": [
      "rows_to_split  175 \n",
      "split_df  978 \n",
      "labels  3715 \n",
      "labels after drop  3540 \n",
      "labels after add  4518 \n"
     ]
    }
   ],
   "source": [
    "# drop comma separated rows from labels and add split out rows\n",
    "cat(c(\"rows_to_split \", length(rows_to_split), \"\\n\"))\n",
    "cat(c(\"split_df \", nrow(split_df), \"\\n\"))\n",
    "cat(c(\"labels \", nrow(labels), \"\\n\"))\n",
    "labels <- labels[-rows_to_split,]\n",
    "cat(c(\"labels after drop \", nrow(labels), \"\\n\"))\n",
    "labels <- rbind(labels, split_df)\n",
    "cat(c(\"labels after add \", nrow(labels), \"\\n\"))"
   ]
  },
  {
   "cell_type": "code",
   "execution_count": 54,
   "metadata": {},
   "outputs": [
    {
     "data": {
      "text/html": [
       "<ol class=list-inline>\n",
       "\t<li>'0-plus.com'</li>\n",
       "\t<li>'10-8systems.com'</li>\n",
       "\t<li>'10-spec.com'</li>\n",
       "\t<li>'1001brickellbay.com'</li>\n",
       "\t<li>'100clubbuffalo.org'</li>\n",
       "\t<li>'101financial.com'</li>\n",
       "</ol>\n"
      ],
      "text/latex": [
       "\\begin{enumerate*}\n",
       "\\item '0-plus.com'\n",
       "\\item '10-8systems.com'\n",
       "\\item '10-spec.com'\n",
       "\\item '1001brickellbay.com'\n",
       "\\item '100clubbuffalo.org'\n",
       "\\item '101financial.com'\n",
       "\\end{enumerate*}\n"
      ],
      "text/markdown": [
       "1. '0-plus.com'\n",
       "2. '10-8systems.com'\n",
       "3. '10-spec.com'\n",
       "4. '1001brickellbay.com'\n",
       "5. '100clubbuffalo.org'\n",
       "6. '101financial.com'\n",
       "\n",
       "\n"
      ],
      "text/plain": [
       "[1] \"0-plus.com\"          \"10-8systems.com\"     \"10-spec.com\"        \n",
       "[4] \"1001brickellbay.com\" \"100clubbuffalo.org\"  \"101financial.com\"   "
      ]
     },
     "metadata": {},
     "output_type": "display_data"
    }
   ],
   "source": [
    "# load websites in Text folder to find sites included and excluded in labels\n",
    "site_files <- list.files(paste(base_dir, \"Text\", sep = \"/\"))\n",
    "all_sites <- gsub(pattern = \".txt\", replace = \"\", x = site_files)\n",
    "head(all_sites)"
   ]
  },
  {
   "cell_type": "code",
   "execution_count": 29,
   "metadata": {},
   "outputs": [
    {
     "data": {
      "text/html": [
       "29843"
      ],
      "text/latex": [
       "29843"
      ],
      "text/markdown": [
       "29843"
      ],
      "text/plain": [
       "[1] 29843"
      ]
     },
     "metadata": {},
     "output_type": "display_data"
    },
    {
     "data": {
      "text/html": [
       "3715"
      ],
      "text/latex": [
       "3715"
      ],
      "text/markdown": [
       "3715"
      ],
      "text/plain": [
       "[1] 3715"
      ]
     },
     "metadata": {},
     "output_type": "display_data"
    }
   ],
   "source": [
    "length(site_files) #29,843 websites total\n",
    "length(labels$domain_names %in% site_files) # 3,715 websites with label"
   ]
  },
  {
   "cell_type": "code",
   "execution_count": 30,
   "metadata": {},
   "outputs": [
    {
     "data": {
      "text/plain": [
       " domain_names         label        \n",
       " Length:3715        Mode :logical  \n",
       " Class :character   FALSE:3399     \n",
       " Mode  :character   TRUE :316      "
      ]
     },
     "metadata": {},
     "output_type": "display_data"
    }
   ],
   "source": [
    "######## data exploration\n",
    "\n",
    "# look at distribution\n",
    "summary(labels)\n",
    "# FALSE: 3399\n",
    "# TRUE: 316\n",
    "\n"
   ]
  },
  {
   "cell_type": "code",
   "execution_count": 33,
   "metadata": {},
   "outputs": [
    {
     "data": {
      "text/html": [
       "<table>\n",
       "<thead><tr><th scope=col>domain_names</th></tr></thead>\n",
       "<tbody>\n",
       "\t<tr><td>connection.com          </td></tr>\n",
       "\t<tr><td>pcm.com                 </td></tr>\n",
       "\t<tr><td>pegasustechsolutions.com</td></tr>\n",
       "\t<tr><td>perryprotech.com        </td></tr>\n",
       "\t<tr><td>presidio.com            </td></tr>\n",
       "\t<tr><td>pro4ia.com              </td></tr>\n",
       "\t<tr><td>prosysis.com            </td></tr>\n",
       "\t<tr><td>provintl.com            </td></tr>\n",
       "\t<tr><td>questsys.com            </td></tr>\n",
       "\t<tr><td>questsolution.com       </td></tr>\n",
       "\t<tr><td>razor-tech.com          </td></tr>\n",
       "\t<tr><td>rfa.com                 </td></tr>\n",
       "\t<tr><td>rightpoint.com          </td></tr>\n",
       "\t<tr><td>rmmsolutions.com        </td></tr>\n",
       "\t<tr><td>safesystems.com         </td></tr>\n",
       "\t<tr><td>sentinel.com            </td></tr>\n",
       "\t<tr><td>sigmasol.com            </td></tr>\n",
       "\t<tr><td>siriuscom.com           </td></tr>\n",
       "\t<tr><td>slpowers.com            </td></tr>\n",
       "\t<tr><td>softchoice.com          </td></tr>\n",
       "\t<tr><td>thinksis.com            </td></tr>\n",
       "\t<tr><td>sterlingcomputers.com   </td></tr>\n",
       "\t<tr><td>spscom.com              </td></tr>\n",
       "\t<tr><td>structured.com          </td></tr>\n",
       "\t<tr><td>ssr-online.com          </td></tr>\n",
       "\t<tr><td>swc.com                 </td></tr>\n",
       "\t<tr><td>swktech.com             </td></tr>\n",
       "\t<tr><td>teamlogicit.com         </td></tr>\n",
       "\t<tr><td>tig.com                 </td></tr>\n",
       "\t<tr><td>teklinks.com            </td></tr>\n",
       "\t<tr><td>...</td></tr>\n",
       "\t<tr><td>verustechnology.com   </td></tr>\n",
       "\t<tr><td>vintageits.com        </td></tr>\n",
       "\t<tr><td>vplssolutions.com     </td></tr>\n",
       "\t<tr><td>wheelhouseit.com      </td></tr>\n",
       "\t<tr><td>winxnet.com           </td></tr>\n",
       "\t<tr><td>xamin.com             </td></tr>\n",
       "\t<tr><td>xcentric.com          </td></tr>\n",
       "\t<tr><td>xpertechs.com         </td></tr>\n",
       "\t<tr><td>xperteks.com          </td></tr>\n",
       "\t<tr><td>zthernet.com          </td></tr>\n",
       "\t<tr><td>zts.com               </td></tr>\n",
       "\t<tr><td>4it-inc.com           </td></tr>\n",
       "\t<tr><td>abacode.com           </td></tr>\n",
       "\t<tr><td>abacusgroupllc.com    </td></tr>\n",
       "\t<tr><td>aceits.net            </td></tr>\n",
       "\t<tr><td>ai.net                </td></tr>\n",
       "\t<tr><td>align.com             </td></tr>\n",
       "\t<tr><td>alpinecyber.com       </td></tr>\n",
       "\t<tr><td>anchorpointsec.com    </td></tr>\n",
       "\t<tr><td>anchortechnologies.com</td></tr>\n",
       "\t<tr><td>appliedtrust.com      </td></tr>\n",
       "\t<tr><td>justask.net           </td></tr>\n",
       "\t<tr><td>aspiretransforms.com  </td></tr>\n",
       "\t<tr><td>atmosera.com          </td></tr>\n",
       "\t<tr><td>blokworx.com          </td></tr>\n",
       "\t<tr><td>bluekarmasecurity.net </td></tr>\n",
       "\t<tr><td>btechonline.com       </td></tr>\n",
       "\t<tr><td>bdsnow.com            </td></tr>\n",
       "\t<tr><td>capstoneitinc.com     </td></tr>\n",
       "\t<tr><td>cbisecure.com         </td></tr>\n",
       "</tbody>\n",
       "</table>\n"
      ],
      "text/latex": [
       "\\begin{tabular}{r|l}\n",
       " domain\\_names\\\\\n",
       "\\hline\n",
       "\t connection.com          \\\\\n",
       "\t pcm.com                 \\\\\n",
       "\t pegasustechsolutions.com\\\\\n",
       "\t perryprotech.com        \\\\\n",
       "\t presidio.com            \\\\\n",
       "\t pro4ia.com              \\\\\n",
       "\t prosysis.com            \\\\\n",
       "\t provintl.com            \\\\\n",
       "\t questsys.com            \\\\\n",
       "\t questsolution.com       \\\\\n",
       "\t razor-tech.com          \\\\\n",
       "\t rfa.com                 \\\\\n",
       "\t rightpoint.com          \\\\\n",
       "\t rmmsolutions.com        \\\\\n",
       "\t safesystems.com         \\\\\n",
       "\t sentinel.com            \\\\\n",
       "\t sigmasol.com            \\\\\n",
       "\t siriuscom.com           \\\\\n",
       "\t slpowers.com            \\\\\n",
       "\t softchoice.com          \\\\\n",
       "\t thinksis.com            \\\\\n",
       "\t sterlingcomputers.com   \\\\\n",
       "\t spscom.com              \\\\\n",
       "\t structured.com          \\\\\n",
       "\t ssr-online.com          \\\\\n",
       "\t swc.com                 \\\\\n",
       "\t swktech.com             \\\\\n",
       "\t teamlogicit.com         \\\\\n",
       "\t tig.com                 \\\\\n",
       "\t teklinks.com            \\\\\n",
       "\t ...\\\\\n",
       "\t verustechnology.com   \\\\\n",
       "\t vintageits.com        \\\\\n",
       "\t vplssolutions.com     \\\\\n",
       "\t wheelhouseit.com      \\\\\n",
       "\t winxnet.com           \\\\\n",
       "\t xamin.com             \\\\\n",
       "\t xcentric.com          \\\\\n",
       "\t xpertechs.com         \\\\\n",
       "\t xperteks.com          \\\\\n",
       "\t zthernet.com          \\\\\n",
       "\t zts.com               \\\\\n",
       "\t 4it-inc.com           \\\\\n",
       "\t abacode.com           \\\\\n",
       "\t abacusgroupllc.com    \\\\\n",
       "\t aceits.net            \\\\\n",
       "\t ai.net                \\\\\n",
       "\t align.com             \\\\\n",
       "\t alpinecyber.com       \\\\\n",
       "\t anchorpointsec.com    \\\\\n",
       "\t anchortechnologies.com\\\\\n",
       "\t appliedtrust.com      \\\\\n",
       "\t justask.net           \\\\\n",
       "\t aspiretransforms.com  \\\\\n",
       "\t atmosera.com          \\\\\n",
       "\t blokworx.com          \\\\\n",
       "\t bluekarmasecurity.net \\\\\n",
       "\t btechonline.com       \\\\\n",
       "\t bdsnow.com            \\\\\n",
       "\t capstoneitinc.com     \\\\\n",
       "\t cbisecure.com         \\\\\n",
       "\\end{tabular}\n"
      ],
      "text/markdown": [
       "\n",
       "| domain_names |\n",
       "|---|\n",
       "| connection.com           |\n",
       "| pcm.com                  |\n",
       "| pegasustechsolutions.com |\n",
       "| perryprotech.com         |\n",
       "| presidio.com             |\n",
       "| pro4ia.com               |\n",
       "| prosysis.com             |\n",
       "| provintl.com             |\n",
       "| questsys.com             |\n",
       "| questsolution.com        |\n",
       "| razor-tech.com           |\n",
       "| rfa.com                  |\n",
       "| rightpoint.com           |\n",
       "| rmmsolutions.com         |\n",
       "| safesystems.com          |\n",
       "| sentinel.com             |\n",
       "| sigmasol.com             |\n",
       "| siriuscom.com            |\n",
       "| slpowers.com             |\n",
       "| softchoice.com           |\n",
       "| thinksis.com             |\n",
       "| sterlingcomputers.com    |\n",
       "| spscom.com               |\n",
       "| structured.com           |\n",
       "| ssr-online.com           |\n",
       "| swc.com                  |\n",
       "| swktech.com              |\n",
       "| teamlogicit.com          |\n",
       "| tig.com                  |\n",
       "| teklinks.com             |\n",
       "| ... |\n",
       "| verustechnology.com    |\n",
       "| vintageits.com         |\n",
       "| vplssolutions.com      |\n",
       "| wheelhouseit.com       |\n",
       "| winxnet.com            |\n",
       "| xamin.com              |\n",
       "| xcentric.com           |\n",
       "| xpertechs.com          |\n",
       "| xperteks.com           |\n",
       "| zthernet.com           |\n",
       "| zts.com                |\n",
       "| 4it-inc.com            |\n",
       "| abacode.com            |\n",
       "| abacusgroupllc.com     |\n",
       "| aceits.net             |\n",
       "| ai.net                 |\n",
       "| align.com              |\n",
       "| alpinecyber.com        |\n",
       "| anchorpointsec.com     |\n",
       "| anchortechnologies.com |\n",
       "| appliedtrust.com       |\n",
       "| justask.net            |\n",
       "| aspiretransforms.com   |\n",
       "| atmosera.com           |\n",
       "| blokworx.com           |\n",
       "| bluekarmasecurity.net  |\n",
       "| btechonline.com        |\n",
       "| bdsnow.com             |\n",
       "| capstoneitinc.com      |\n",
       "| cbisecure.com          |\n",
       "\n"
      ],
      "text/plain": [
       "    domain_names            \n",
       "1   connection.com          \n",
       "2   pcm.com                 \n",
       "3   pegasustechsolutions.com\n",
       "4   perryprotech.com        \n",
       "5   presidio.com            \n",
       "6   pro4ia.com              \n",
       "7   prosysis.com            \n",
       "8   provintl.com            \n",
       "9   questsys.com            \n",
       "10  questsolution.com       \n",
       "11  razor-tech.com          \n",
       "12  rfa.com                 \n",
       "13  rightpoint.com          \n",
       "14  rmmsolutions.com        \n",
       "15  safesystems.com         \n",
       "16  sentinel.com            \n",
       "17  sigmasol.com            \n",
       "18  siriuscom.com           \n",
       "19  slpowers.com            \n",
       "20  softchoice.com          \n",
       "21  thinksis.com            \n",
       "22  sterlingcomputers.com   \n",
       "23  spscom.com              \n",
       "24  structured.com          \n",
       "25  ssr-online.com          \n",
       "26  swc.com                 \n",
       "27  swktech.com             \n",
       "28  teamlogicit.com         \n",
       "29  tig.com                 \n",
       "30  teklinks.com            \n",
       "... ...                     \n",
       "287 verustechnology.com     \n",
       "288 vintageits.com          \n",
       "289 vplssolutions.com       \n",
       "290 wheelhouseit.com        \n",
       "291 winxnet.com             \n",
       "292 xamin.com               \n",
       "293 xcentric.com            \n",
       "294 xpertechs.com           \n",
       "295 xperteks.com            \n",
       "296 zthernet.com            \n",
       "297 zts.com                 \n",
       "298 4it-inc.com             \n",
       "299 abacode.com             \n",
       "300 abacusgroupllc.com      \n",
       "301 aceits.net              \n",
       "302 ai.net                  \n",
       "303 align.com               \n",
       "304 alpinecyber.com         \n",
       "305 anchorpointsec.com      \n",
       "306 anchortechnologies.com  \n",
       "307 appliedtrust.com        \n",
       "308 justask.net             \n",
       "309 aspiretransforms.com    \n",
       "310 atmosera.com            \n",
       "311 blokworx.com            \n",
       "312 bluekarmasecurity.net   \n",
       "313 btechonline.com         \n",
       "314 bdsnow.com              \n",
       "315 capstoneitinc.com       \n",
       "316 cbisecure.com           "
      ]
     },
     "metadata": {},
     "output_type": "display_data"
    }
   ],
   "source": [
    "# look at TRUE names (idea to see if pattern around domain type or common names)\n",
    "msp_names <- labels %>% filter(label) %>% select(domain_names)\n",
    "msp_names\n",
    "# nothing immediately jumps out"
   ]
  },
  {
   "cell_type": "code",
   "execution_count": 56,
   "metadata": {},
   "outputs": [
    {
     "data": {
      "text/html": [
       "<table>\n",
       "<thead><tr><th scope=col>domain_names</th><th scope=col>label</th><th scope=col>service</th><th scope=col>msp</th><th scope=col>msp_full</th><th scope=col>ms</th><th scope=col>sp</th><th scope=col>it_infr</th><th scope=col>file_found</th></tr></thead>\n",
       "<tbody>\n",
       "\t<tr><td>advantage-title.com</td><td>FALSE              </td><td>0                  </td><td>0                  </td><td>0                  </td><td>0                  </td><td>0                  </td><td>0                  </td><td>FALSE              </td></tr>\n",
       "\t<tr><td>bynumlawnc.com     </td><td>FALSE              </td><td>0                  </td><td>0                  </td><td>0                  </td><td>0                  </td><td>0                  </td><td>0                  </td><td>FALSE              </td></tr>\n",
       "\t<tr><td>philiegroup.com    </td><td>FALSE              </td><td>0                  </td><td>0                  </td><td>0                  </td><td>0                  </td><td>0                  </td><td>0                  </td><td>FALSE              </td></tr>\n",
       "\t<tr><td>gwiktn.org         </td><td>FALSE              </td><td>0                  </td><td>0                  </td><td>0                  </td><td>0                  </td><td>0                  </td><td>0                  </td><td>FALSE              </td></tr>\n",
       "\t<tr><td>firstduesizeup.com </td><td>FALSE              </td><td>0                  </td><td>0                  </td><td>0                  </td><td>0                  </td><td>0                  </td><td>0                  </td><td>FALSE              </td></tr>\n",
       "\t<tr><td>medlifemovement.org</td><td>FALSE              </td><td>0                  </td><td>0                  </td><td>0                  </td><td>0                  </td><td>0                  </td><td>0                  </td><td>FALSE              </td></tr>\n",
       "</tbody>\n",
       "</table>\n"
      ],
      "text/latex": [
       "\\begin{tabular}{r|lllllllll}\n",
       " domain\\_names & label & service & msp & msp\\_full & ms & sp & it\\_infr & file\\_found\\\\\n",
       "\\hline\n",
       "\t advantage-title.com & FALSE               & 0                   & 0                   & 0                   & 0                   & 0                   & 0                   & FALSE              \\\\\n",
       "\t bynumlawnc.com      & FALSE               & 0                   & 0                   & 0                   & 0                   & 0                   & 0                   & FALSE              \\\\\n",
       "\t philiegroup.com     & FALSE               & 0                   & 0                   & 0                   & 0                   & 0                   & 0                   & FALSE              \\\\\n",
       "\t gwiktn.org          & FALSE               & 0                   & 0                   & 0                   & 0                   & 0                   & 0                   & FALSE              \\\\\n",
       "\t firstduesizeup.com  & FALSE               & 0                   & 0                   & 0                   & 0                   & 0                   & 0                   & FALSE              \\\\\n",
       "\t medlifemovement.org & FALSE               & 0                   & 0                   & 0                   & 0                   & 0                   & 0                   & FALSE              \\\\\n",
       "\\end{tabular}\n"
      ],
      "text/markdown": [
       "\n",
       "| domain_names | label | service | msp | msp_full | ms | sp | it_infr | file_found |\n",
       "|---|---|---|---|---|---|---|---|---|\n",
       "| advantage-title.com | FALSE               | 0                   | 0                   | 0                   | 0                   | 0                   | 0                   | FALSE               |\n",
       "| bynumlawnc.com      | FALSE               | 0                   | 0                   | 0                   | 0                   | 0                   | 0                   | FALSE               |\n",
       "| philiegroup.com     | FALSE               | 0                   | 0                   | 0                   | 0                   | 0                   | 0                   | FALSE               |\n",
       "| gwiktn.org          | FALSE               | 0                   | 0                   | 0                   | 0                   | 0                   | 0                   | FALSE               |\n",
       "| firstduesizeup.com  | FALSE               | 0                   | 0                   | 0                   | 0                   | 0                   | 0                   | FALSE               |\n",
       "| medlifemovement.org | FALSE               | 0                   | 0                   | 0                   | 0                   | 0                   | 0                   | FALSE               |\n",
       "\n"
      ],
      "text/plain": [
       "  domain_names        label service msp msp_full ms sp it_infr file_found\n",
       "1 advantage-title.com FALSE 0       0   0        0  0  0       FALSE     \n",
       "2 bynumlawnc.com      FALSE 0       0   0        0  0  0       FALSE     \n",
       "3 philiegroup.com     FALSE 0       0   0        0  0  0       FALSE     \n",
       "4 gwiktn.org          FALSE 0       0   0        0  0  0       FALSE     \n",
       "5 firstduesizeup.com  FALSE 0       0   0        0  0  0       FALSE     \n",
       "6 medlifemovement.org FALSE 0       0   0        0  0  0       FALSE     "
      ]
     },
     "metadata": {},
     "output_type": "display_data"
    }
   ],
   "source": [
    "# create empty variable columns for pattern searches\n",
    "labels <- labels %>% mutate(file_found = FALSE, service = 0, msp = 0, msp_full = 0, ms = 0, sp = 0, it_infr = 0)\n",
    "head(labels)\n",
    "\n",
    "# TODO: add feature for TLD"
   ]
  },
  {
   "cell_type": "code",
   "execution_count": 64,
   "metadata": {},
   "outputs": [
    {
     "name": "stdout",
     "output_type": "stream",
     "text": [
      "Total Labeled Sites:  3715 \n",
      "Files Found:  2943 \n"
     ]
    }
   ],
   "source": [
    "# loop through files within labels that exist (not all domains in labels appear to have a corresponding file)\n",
    "options(warn=-1) # turn off warnings to not get spammed with incomplete final line\n",
    "for(i in 1:nrow(labels)){\n",
    "    if(file.exists(paste(base_dir, \"Text\", paste0(labels$domain_names[i], \".txt\"), sep = \"/\"))){\n",
    "        tx  <- readLines(paste(base_dir, \"Text\", paste0(labels$domain_names[i], \".txt\"), sep = \"/\"))\n",
    "        tx <- tolower(tx)\n",
    "        labels$file_found[i] <- TRUE\n",
    "        \n",
    "        # pattern searches\n",
    "        # set variable to number of times pattern was found\n",
    "        labels$service[i] <- length(grep(pattern = \"service\", x = tx))\n",
    "        labels$msp[i] <- length(grep(pattern = \"msp\", x = tx))\n",
    "        labels$msp_full[i] <- length(grep(pattern = \"managed service provider\", x = tx))\n",
    "        labels$ms[i] <- length(grep(pattern = \"managed service\", x = tx))\n",
    "        labels$sp[i] <- length(grep(pattern = \"service provider\", x = tx))\n",
    "        labels$it_infr[i] <- length(grep(pattern = \"it infrastructure\", x = tx))\n",
    "    }\n",
    "}\n",
    "options(warn=0)\n",
    "\n",
    "cat(c(\"Total Labeled Sites: \", nrow(labels), \"\\n\"))\n",
    "cat(c(\"Files Found: \", sum(labels$file_found), \"\\n\"))"
   ]
  },
  {
   "cell_type": "code",
   "execution_count": 66,
   "metadata": {},
   "outputs": [
    {
     "data": {
      "text/html": [
       "<table>\n",
       "<thead><tr><th scope=col>domain_names</th><th scope=col>label</th><th scope=col>service</th><th scope=col>msp</th><th scope=col>msp_full</th><th scope=col>ms</th><th scope=col>sp</th><th scope=col>it_infr</th><th scope=col>file_found</th></tr></thead>\n",
       "<tbody>\n",
       "\t<tr><td>advantage-title.com</td><td>FALSE              </td><td>2                  </td><td>0                  </td><td>0                  </td><td>0                  </td><td>0                  </td><td>0                  </td><td> TRUE              </td></tr>\n",
       "\t<tr><td>bynumlawnc.com     </td><td>FALSE              </td><td>0                  </td><td>0                  </td><td>0                  </td><td>0                  </td><td>0                  </td><td>0                  </td><td>FALSE              </td></tr>\n",
       "\t<tr><td>philiegroup.com    </td><td>FALSE              </td><td>3                  </td><td>0                  </td><td>0                  </td><td>0                  </td><td>0                  </td><td>0                  </td><td> TRUE              </td></tr>\n",
       "\t<tr><td>gwiktn.org         </td><td>FALSE              </td><td>0                  </td><td>0                  </td><td>0                  </td><td>0                  </td><td>0                  </td><td>0                  </td><td> TRUE              </td></tr>\n",
       "\t<tr><td>firstduesizeup.com </td><td>FALSE              </td><td>0                  </td><td>0                  </td><td>0                  </td><td>0                  </td><td>0                  </td><td>0                  </td><td> TRUE              </td></tr>\n",
       "\t<tr><td>medlifemovement.org</td><td>FALSE              </td><td>7                  </td><td>0                  </td><td>0                  </td><td>0                  </td><td>0                  </td><td>0                  </td><td> TRUE              </td></tr>\n",
       "</tbody>\n",
       "</table>\n"
      ],
      "text/latex": [
       "\\begin{tabular}{r|lllllllll}\n",
       " domain\\_names & label & service & msp & msp\\_full & ms & sp & it\\_infr & file\\_found\\\\\n",
       "\\hline\n",
       "\t advantage-title.com & FALSE               & 2                   & 0                   & 0                   & 0                   & 0                   & 0                   &  TRUE              \\\\\n",
       "\t bynumlawnc.com      & FALSE               & 0                   & 0                   & 0                   & 0                   & 0                   & 0                   & FALSE              \\\\\n",
       "\t philiegroup.com     & FALSE               & 3                   & 0                   & 0                   & 0                   & 0                   & 0                   &  TRUE              \\\\\n",
       "\t gwiktn.org          & FALSE               & 0                   & 0                   & 0                   & 0                   & 0                   & 0                   &  TRUE              \\\\\n",
       "\t firstduesizeup.com  & FALSE               & 0                   & 0                   & 0                   & 0                   & 0                   & 0                   &  TRUE              \\\\\n",
       "\t medlifemovement.org & FALSE               & 7                   & 0                   & 0                   & 0                   & 0                   & 0                   &  TRUE              \\\\\n",
       "\\end{tabular}\n"
      ],
      "text/markdown": [
       "\n",
       "| domain_names | label | service | msp | msp_full | ms | sp | it_infr | file_found |\n",
       "|---|---|---|---|---|---|---|---|---|\n",
       "| advantage-title.com | FALSE               | 2                   | 0                   | 0                   | 0                   | 0                   | 0                   |  TRUE               |\n",
       "| bynumlawnc.com      | FALSE               | 0                   | 0                   | 0                   | 0                   | 0                   | 0                   | FALSE               |\n",
       "| philiegroup.com     | FALSE               | 3                   | 0                   | 0                   | 0                   | 0                   | 0                   |  TRUE               |\n",
       "| gwiktn.org          | FALSE               | 0                   | 0                   | 0                   | 0                   | 0                   | 0                   |  TRUE               |\n",
       "| firstduesizeup.com  | FALSE               | 0                   | 0                   | 0                   | 0                   | 0                   | 0                   |  TRUE               |\n",
       "| medlifemovement.org | FALSE               | 7                   | 0                   | 0                   | 0                   | 0                   | 0                   |  TRUE               |\n",
       "\n"
      ],
      "text/plain": [
       "  domain_names        label service msp msp_full ms sp it_infr file_found\n",
       "1 advantage-title.com FALSE 2       0   0        0  0  0        TRUE     \n",
       "2 bynumlawnc.com      FALSE 0       0   0        0  0  0       FALSE     \n",
       "3 philiegroup.com     FALSE 3       0   0        0  0  0        TRUE     \n",
       "4 gwiktn.org          FALSE 0       0   0        0  0  0        TRUE     \n",
       "5 firstduesizeup.com  FALSE 0       0   0        0  0  0        TRUE     \n",
       "6 medlifemovement.org FALSE 7       0   0        0  0  0        TRUE     "
      ]
     },
     "metadata": {},
     "output_type": "display_data"
    },
    {
     "data": {
      "text/plain": [
       " domain_names         label            service             msp          \n",
       " Length:3715        Mode :logical   Min.   :  0.000   Min.   : 0.00000  \n",
       " Class :character   FALSE:3399      1st Qu.:  0.000   1st Qu.: 0.00000  \n",
       " Mode  :character   TRUE :316       Median :  1.000   Median : 0.00000  \n",
       "                                    Mean   :  3.437   Mean   : 0.04711  \n",
       "                                    3rd Qu.:  4.000   3rd Qu.: 0.00000  \n",
       "                                    Max.   :189.000   Max.   :46.00000  \n",
       "    msp_full             ms                sp             it_infr       \n",
       " Min.   :0.00000   Min.   : 0.0000   Min.   :0.00000   Min.   :0.00000  \n",
       " 1st Qu.:0.00000   1st Qu.: 0.0000   1st Qu.:0.00000   1st Qu.:0.00000  \n",
       " Median :0.00000   Median : 0.0000   Median :0.00000   Median :0.00000  \n",
       " Mean   :0.01561   Mean   : 0.1332   Mean   :0.04845   Mean   :0.02369  \n",
       " 3rd Qu.:0.00000   3rd Qu.: 0.0000   3rd Qu.:0.00000   3rd Qu.:0.00000  \n",
       " Max.   :4.00000   Max.   :20.0000   Max.   :6.00000   Max.   :8.00000  \n",
       " file_found     \n",
       " Mode :logical  \n",
       " FALSE:772      \n",
       " TRUE :2943     \n",
       "                \n",
       "                \n",
       "                "
      ]
     },
     "metadata": {},
     "output_type": "display_data"
    }
   ],
   "source": [
    "head(labels)\n",
    "summary(labels)"
   ]
  },
  {
   "cell_type": "code",
   "execution_count": null,
   "metadata": {},
   "outputs": [],
   "source": [
    "# TODO: find bags-of-words/tuples for overall websites and MSP websites\n",
    "# http://rstudio-pubs-static.s3.amazonaws.com/256588_57b585da6c054349825cba46685d8464.html"
   ]
  },
  {
   "cell_type": "code",
   "execution_count": null,
   "metadata": {},
   "outputs": [],
   "source": [
    "# split to test and train\n",
    "library(caret)"
   ]
  },
  {
   "cell_type": "code",
   "execution_count": 114,
   "metadata": {},
   "outputs": [
    {
     "data": {
      "text/html": [
       "2787"
      ],
      "text/latex": [
       "2787"
      ],
      "text/markdown": [
       "2787"
      ],
      "text/plain": [
       "[1] 2787"
      ]
     },
     "metadata": {},
     "output_type": "display_data"
    },
    {
     "data": {
      "text/html": [
       "928"
      ],
      "text/latex": [
       "928"
      ],
      "text/markdown": [
       "928"
      ],
      "text/plain": [
       "[1] 928"
      ]
     },
     "metadata": {},
     "output_type": "display_data"
    }
   ],
   "source": [
    "set.seed(3456)\n",
    "train_index <- createDataPartition(labels$label, p = .75, \n",
    "                                  list = FALSE, \n",
    "                                  times = 1)\n",
    "label_train <- labels[train_index,]\n",
    "label_test <- labels[-train_index,]\n",
    "nrow(label_train)\n",
    "nrow(label_test)"
   ]
  },
  {
   "cell_type": "code",
   "execution_count": 117,
   "metadata": {},
   "outputs": [],
   "source": [
    "# run a random forest\n",
    "# TODO: tune hyperparameters\n",
    "library(randomForest)"
   ]
  },
  {
   "cell_type": "code",
   "execution_count": 118,
   "metadata": {},
   "outputs": [
    {
     "name": "stderr",
     "output_type": "stream",
     "text": [
      "Warning message in randomForest.default(m, y, ...):\n",
      "“The response has five or fewer unique values.  Are you sure you want to do regression?”"
     ]
    }
   ],
   "source": [
    "rf <- randomForest(\n",
    "    label ~ .-domain_names-file_found,\n",
    "    data=label_train,\n",
    "    ntree = 100,\n",
    "    type = \"classification\",\n",
    "    importance = TRUE\n",
    ")\n"
   ]
  },
  {
   "cell_type": "code",
   "execution_count": 119,
   "metadata": {},
   "outputs": [
    {
     "data": {
      "text/html": [
       "<table>\n",
       "<thead><tr><th></th><th scope=col>%IncMSE</th><th scope=col>IncNodePurity</th></tr></thead>\n",
       "<tbody>\n",
       "\t<tr><th scope=row>service</th><td>0.0076776501</td><td>13.837495   </td></tr>\n",
       "\t<tr><th scope=row>msp</th><td>0.0036248722</td><td> 8.141244   </td></tr>\n",
       "\t<tr><th scope=row>msp_full</th><td>0.0019209628</td><td> 3.677547   </td></tr>\n",
       "\t<tr><th scope=row>ms</th><td>0.0391355220</td><td>57.450839   </td></tr>\n",
       "\t<tr><th scope=row>sp</th><td>0.0006555926</td><td> 2.528393   </td></tr>\n",
       "\t<tr><th scope=row>it_infr</th><td>0.0121322311</td><td>18.310261   </td></tr>\n",
       "</tbody>\n",
       "</table>\n"
      ],
      "text/latex": [
       "\\begin{tabular}{r|ll}\n",
       "  & \\%IncMSE & IncNodePurity\\\\\n",
       "\\hline\n",
       "\tservice & 0.0076776501 & 13.837495   \\\\\n",
       "\tmsp & 0.0036248722 &  8.141244   \\\\\n",
       "\tmsp\\_full & 0.0019209628 &  3.677547   \\\\\n",
       "\tms & 0.0391355220 & 57.450839   \\\\\n",
       "\tsp & 0.0006555926 &  2.528393   \\\\\n",
       "\tit\\_infr & 0.0121322311 & 18.310261   \\\\\n",
       "\\end{tabular}\n"
      ],
      "text/markdown": [
       "\n",
       "| <!--/--> | %IncMSE | IncNodePurity |\n",
       "|---|---|---|\n",
       "| service | 0.0076776501 | 13.837495    |\n",
       "| msp | 0.0036248722 |  8.141244    |\n",
       "| msp_full | 0.0019209628 |  3.677547    |\n",
       "| ms | 0.0391355220 | 57.450839    |\n",
       "| sp | 0.0006555926 |  2.528393    |\n",
       "| it_infr | 0.0121322311 | 18.310261    |\n",
       "\n"
      ],
      "text/plain": [
       "         %IncMSE      IncNodePurity\n",
       "service  0.0076776501 13.837495    \n",
       "msp      0.0036248722  8.141244    \n",
       "msp_full 0.0019209628  3.677547    \n",
       "ms       0.0391355220 57.450839    \n",
       "sp       0.0006555926  2.528393    \n",
       "it_infr  0.0121322311 18.310261    "
      ]
     },
     "metadata": {},
     "output_type": "display_data"
    }
   ],
   "source": [
    "rf$importance"
   ]
  },
  {
   "cell_type": "code",
   "execution_count": 120,
   "metadata": {},
   "outputs": [],
   "source": [
    "# TRAIN\n",
    "# predict and create new dataframe of predicted values\n",
    "# add column for class prediction using .5 cutoff (revisit later)\n",
    "pred <- predict(rf, newdata = label_train)\n",
    "pred_train_df <- label_train %>% select(domain_names, label, file_found) %>%\n",
    "            mutate(pred_val = pred) %>%\n",
    "            mutate(pred_class = pred_val > .5)"
   ]
  },
  {
   "cell_type": "code",
   "execution_count": 121,
   "metadata": {},
   "outputs": [],
   "source": [
    "# TEST\n",
    "# predict and create new dataframe of predicted values\n",
    "# add column for class prediction using .5 cutoff (revisit later)\n",
    "pred <- predict(rf, newdata = label_test)\n",
    "pred_test_df <- label_test %>% select(domain_names, label, file_found) %>%\n",
    "            mutate(pred_val = pred) %>%\n",
    "            mutate(pred_class = pred_val > .5)"
   ]
  },
  {
   "cell_type": "code",
   "execution_count": 122,
   "metadata": {},
   "outputs": [
    {
     "data": {
      "text/plain": [
       "       \n",
       "        FALSE TRUE\n",
       "  FALSE  2542  110\n",
       "  TRUE      8  127"
      ]
     },
     "metadata": {},
     "output_type": "display_data"
    },
    {
     "name": "stdout",
     "output_type": "stream",
     "text": [
      "Sensitivity:  0.941 \n",
      "Specificity:  0.959 \n"
     ]
    }
   ],
   "source": [
    "# TRAIN\n",
    "# find prediction metrics for hits and misses\n",
    "xtab <- table(pred_train_df$pred_class, pred_train_df$label)\n",
    "xtab\n",
    "found_false <- xtab[1,1]\n",
    "miss_false <- xtab[1,2]\n",
    "miss_true <- xtab[2,1]\n",
    "found_true <- xtab[2,2]\n",
    "\n",
    "cat(c(\"Sensitivity: \", round(found_true/(found_true + miss_true), 3), \"\\n\"))\n",
    "cat(c(\"Specificity: \", round(found_false/(found_false + miss_false), 3), \"\\n\"))"
   ]
  },
  {
   "cell_type": "code",
   "execution_count": 123,
   "metadata": {},
   "outputs": [
    {
     "data": {
      "text/plain": [
       "       \n",
       "        FALSE TRUE\n",
       "  FALSE   844   38\n",
       "  TRUE      5   41"
      ]
     },
     "metadata": {},
     "output_type": "display_data"
    },
    {
     "name": "stdout",
     "output_type": "stream",
     "text": [
      "Sensitivity:  0.891 \n",
      "Specificity:  0.957 \n"
     ]
    }
   ],
   "source": [
    "# TEST\n",
    "# find prediction metrics for hits and misses\n",
    "xtab <- table(pred_test_df$pred_class, pred_test_df$label)\n",
    "xtab\n",
    "found_false <- xtab[1,1]\n",
    "miss_false <- xtab[1,2]\n",
    "miss_true <- xtab[2,1]\n",
    "found_true <- xtab[2,2]\n",
    "\n",
    "cat(c(\"Sensitivity: \", round(found_true/(found_true + miss_true), 3), \"\\n\"))\n",
    "cat(c(\"Specificity: \", round(found_false/(found_false + miss_false), 3), \"\\n\"))"
   ]
  },
  {
   "cell_type": "code",
   "execution_count": null,
   "metadata": {},
   "outputs": [],
   "source": [
    "# First run through without finding tuples or other bags: suprisingly good\n",
    "\n",
    "# TRAIN:\n",
    "#         FALSE TRUE\n",
    "#  FALSE  2542  110\n",
    "#  TRUE      8  127\n",
    "# Sensitivity:  0.941 \n",
    "# Specificity:  0.959 \n",
    "\n",
    "# TEST:\n",
    "#         FALSE TRUE\n",
    "#  FALSE   844   38\n",
    "#  TRUE      5   41\n",
    "# Sensitivity:  0.891 \n",
    "# Specificity:  0.957 \n",
    "\n",
    "# Pretty low bias (training error)\n",
    "# Somewhat notable variance (gap between train and test error)\n",
    "# both could be improved but not bad for a quick start\n",
    "# method seems good and would be improved by text mining for important bags-of-words"
   ]
  },
  {
   "cell_type": "code",
   "execution_count": 105,
   "metadata": {},
   "outputs": [],
   "source": [
    "# Create dataframe and features for non-labeled websites\n",
    "test_files <- data.frame(domain_names = all_sites,\n",
    "                        stringsAsFactors = FALSE)\n",
    "\n",
    "# drop domain names that are in labels (add third arg FALSE to keep from swapping df to vector)\n",
    "test_files <- test_files[!(test_files$domain_names %in% labels$domain_names),,FALSE]\n",
    "\n",
    "# create empty variable columns for pattern searches\n",
    "test_files <- test_files %>% mutate(file_found = FALSE, service = 0, msp = 0, msp_full = 0, \n",
    "                                    ms = 0, sp = 0, it_infr = 0)\n"
   ]
  },
  {
   "cell_type": "code",
   "execution_count": 106,
   "metadata": {},
   "outputs": [
    {
     "data": {
      "text/html": [
       "<table>\n",
       "<thead><tr><th scope=col>domain_names</th><th scope=col>file_found</th><th scope=col>service</th><th scope=col>msp</th><th scope=col>msp_full</th><th scope=col>ms</th><th scope=col>sp</th><th scope=col>it_infr</th></tr></thead>\n",
       "<tbody>\n",
       "\t<tr><td>0-plus.com         </td><td>FALSE              </td><td>0                  </td><td>0                  </td><td>0                  </td><td>0                  </td><td>0                  </td><td>0                  </td></tr>\n",
       "\t<tr><td>10-spec.com        </td><td>FALSE              </td><td>0                  </td><td>0                  </td><td>0                  </td><td>0                  </td><td>0                  </td><td>0                  </td></tr>\n",
       "\t<tr><td>1001brickellbay.com</td><td>FALSE              </td><td>0                  </td><td>0                  </td><td>0                  </td><td>0                  </td><td>0                  </td><td>0                  </td></tr>\n",
       "\t<tr><td>100clubbuffalo.org </td><td>FALSE              </td><td>0                  </td><td>0                  </td><td>0                  </td><td>0                  </td><td>0                  </td><td>0                  </td></tr>\n",
       "\t<tr><td>101financial.com   </td><td>FALSE              </td><td>0                  </td><td>0                  </td><td>0                  </td><td>0                  </td><td>0                  </td><td>0                  </td></tr>\n",
       "\t<tr><td>1099-etc.com       </td><td>FALSE              </td><td>0                  </td><td>0                  </td><td>0                  </td><td>0                  </td><td>0                  </td><td>0                  </td></tr>\n",
       "</tbody>\n",
       "</table>\n"
      ],
      "text/latex": [
       "\\begin{tabular}{r|llllllll}\n",
       " domain\\_names & file\\_found & service & msp & msp\\_full & ms & sp & it\\_infr\\\\\n",
       "\\hline\n",
       "\t 0-plus.com          & FALSE               & 0                   & 0                   & 0                   & 0                   & 0                   & 0                  \\\\\n",
       "\t 10-spec.com         & FALSE               & 0                   & 0                   & 0                   & 0                   & 0                   & 0                  \\\\\n",
       "\t 1001brickellbay.com & FALSE               & 0                   & 0                   & 0                   & 0                   & 0                   & 0                  \\\\\n",
       "\t 100clubbuffalo.org  & FALSE               & 0                   & 0                   & 0                   & 0                   & 0                   & 0                  \\\\\n",
       "\t 101financial.com    & FALSE               & 0                   & 0                   & 0                   & 0                   & 0                   & 0                  \\\\\n",
       "\t 1099-etc.com        & FALSE               & 0                   & 0                   & 0                   & 0                   & 0                   & 0                  \\\\\n",
       "\\end{tabular}\n"
      ],
      "text/markdown": [
       "\n",
       "| domain_names | file_found | service | msp | msp_full | ms | sp | it_infr |\n",
       "|---|---|---|---|---|---|---|---|\n",
       "| 0-plus.com          | FALSE               | 0                   | 0                   | 0                   | 0                   | 0                   | 0                   |\n",
       "| 10-spec.com         | FALSE               | 0                   | 0                   | 0                   | 0                   | 0                   | 0                   |\n",
       "| 1001brickellbay.com | FALSE               | 0                   | 0                   | 0                   | 0                   | 0                   | 0                   |\n",
       "| 100clubbuffalo.org  | FALSE               | 0                   | 0                   | 0                   | 0                   | 0                   | 0                   |\n",
       "| 101financial.com    | FALSE               | 0                   | 0                   | 0                   | 0                   | 0                   | 0                   |\n",
       "| 1099-etc.com        | FALSE               | 0                   | 0                   | 0                   | 0                   | 0                   | 0                   |\n",
       "\n"
      ],
      "text/plain": [
       "  domain_names        file_found service msp msp_full ms sp it_infr\n",
       "1 0-plus.com          FALSE      0       0   0        0  0  0      \n",
       "2 10-spec.com         FALSE      0       0   0        0  0  0      \n",
       "3 1001brickellbay.com FALSE      0       0   0        0  0  0      \n",
       "4 100clubbuffalo.org  FALSE      0       0   0        0  0  0      \n",
       "5 101financial.com    FALSE      0       0   0        0  0  0      \n",
       "6 1099-etc.com        FALSE      0       0   0        0  0  0      "
      ]
     },
     "metadata": {},
     "output_type": "display_data"
    }
   ],
   "source": [
    "head(test_files)"
   ]
  },
  {
   "cell_type": "code",
   "execution_count": 92,
   "metadata": {},
   "outputs": [
    {
     "data": {
      "text/html": [
       "3715"
      ],
      "text/latex": [
       "3715"
      ],
      "text/markdown": [
       "3715"
      ],
      "text/plain": [
       "[1] 3715"
      ]
     },
     "metadata": {},
     "output_type": "display_data"
    },
    {
     "data": {
      "text/html": [
       "29843"
      ],
      "text/latex": [
       "29843"
      ],
      "text/markdown": [
       "29843"
      ],
      "text/plain": [
       "[1] 29843"
      ]
     },
     "metadata": {},
     "output_type": "display_data"
    }
   ],
   "source": [
    "length(labels$domain_names)\n",
    "length(test_files$domain_names)"
   ]
  },
  {
   "cell_type": "code",
   "execution_count": 107,
   "metadata": {},
   "outputs": [
    {
     "name": "stdout",
     "output_type": "stream",
     "text": [
      "Total Labeled Sites:  27149 \n",
      "Files Found:  27149 \n"
     ]
    }
   ],
   "source": [
    "# Predict on unlabeled websites\n",
    "# loop through files within labels that exist (not all domains in labels appear to have a corresponding file)\n",
    "options(warn=-1) # turn off warnings to not get spammed with incomplete final line\n",
    "for(i in 1:nrow(test_files)){\n",
    "    if(file.exists(paste(base_dir, \"Text\", paste0(test_files$domain_names[i], \".txt\"), sep = \"/\"))){\n",
    "        tx  <- readLines(paste(base_dir, \"Text\", paste0(test_files$domain_names[i], \".txt\"), sep = \"/\"))\n",
    "        tx <- tolower(tx)\n",
    "        test_files$file_found[i] <- TRUE\n",
    "        \n",
    "        # pattern searches\n",
    "        # set variable to number of times pattern was found\n",
    "        test_files$service[i] <- length(grep(pattern = \"service\", x = tx))\n",
    "        test_files$msp[i] <- length(grep(pattern = \"msp\", x = tx))\n",
    "        test_files$msp_full[i] <- length(grep(pattern = \"managed service provider\", x = tx))\n",
    "        test_files$ms[i] <- length(grep(pattern = \"managed service\", x = tx))\n",
    "        test_files$sp[i] <- length(grep(pattern = \"service provider\", x = tx))\n",
    "        test_files$it_infr[i] <- length(grep(pattern = \"it infrastructure\", x = tx))\n",
    "    }\n",
    "}\n",
    "options(warn=0)\n",
    "\n",
    "cat(c(\"Total Labeled Sites: \", nrow(test_files), \"\\n\"))\n",
    "cat(c(\"Files Found: \", sum(test_files$file_found), \"\\n\"))"
   ]
  },
  {
   "cell_type": "code",
   "execution_count": 108,
   "metadata": {},
   "outputs": [
    {
     "data": {
      "text/html": [
       "<table>\n",
       "<thead><tr><th scope=col>domain_names</th><th scope=col>file_found</th><th scope=col>service</th><th scope=col>msp</th><th scope=col>msp_full</th><th scope=col>ms</th><th scope=col>sp</th><th scope=col>it_infr</th></tr></thead>\n",
       "<tbody>\n",
       "\t<tr><td>0-plus.com         </td><td>TRUE               </td><td>0                  </td><td>0                  </td><td>0                  </td><td>0                  </td><td>0                  </td><td>0                  </td></tr>\n",
       "\t<tr><td>10-spec.com        </td><td>TRUE               </td><td>8                  </td><td>0                  </td><td>0                  </td><td>0                  </td><td>0                  </td><td>0                  </td></tr>\n",
       "\t<tr><td>1001brickellbay.com</td><td>TRUE               </td><td>0                  </td><td>0                  </td><td>0                  </td><td>0                  </td><td>0                  </td><td>0                  </td></tr>\n",
       "\t<tr><td>100clubbuffalo.org </td><td>TRUE               </td><td>4                  </td><td>0                  </td><td>0                  </td><td>0                  </td><td>2                  </td><td>0                  </td></tr>\n",
       "\t<tr><td>101financial.com   </td><td>TRUE               </td><td>1                  </td><td>0                  </td><td>0                  </td><td>0                  </td><td>0                  </td><td>0                  </td></tr>\n",
       "\t<tr><td>1099-etc.com       </td><td>TRUE               </td><td>2                  </td><td>0                  </td><td>0                  </td><td>0                  </td><td>0                  </td><td>0                  </td></tr>\n",
       "</tbody>\n",
       "</table>\n"
      ],
      "text/latex": [
       "\\begin{tabular}{r|llllllll}\n",
       " domain\\_names & file\\_found & service & msp & msp\\_full & ms & sp & it\\_infr\\\\\n",
       "\\hline\n",
       "\t 0-plus.com          & TRUE                & 0                   & 0                   & 0                   & 0                   & 0                   & 0                  \\\\\n",
       "\t 10-spec.com         & TRUE                & 8                   & 0                   & 0                   & 0                   & 0                   & 0                  \\\\\n",
       "\t 1001brickellbay.com & TRUE                & 0                   & 0                   & 0                   & 0                   & 0                   & 0                  \\\\\n",
       "\t 100clubbuffalo.org  & TRUE                & 4                   & 0                   & 0                   & 0                   & 2                   & 0                  \\\\\n",
       "\t 101financial.com    & TRUE                & 1                   & 0                   & 0                   & 0                   & 0                   & 0                  \\\\\n",
       "\t 1099-etc.com        & TRUE                & 2                   & 0                   & 0                   & 0                   & 0                   & 0                  \\\\\n",
       "\\end{tabular}\n"
      ],
      "text/markdown": [
       "\n",
       "| domain_names | file_found | service | msp | msp_full | ms | sp | it_infr |\n",
       "|---|---|---|---|---|---|---|---|\n",
       "| 0-plus.com          | TRUE                | 0                   | 0                   | 0                   | 0                   | 0                   | 0                   |\n",
       "| 10-spec.com         | TRUE                | 8                   | 0                   | 0                   | 0                   | 0                   | 0                   |\n",
       "| 1001brickellbay.com | TRUE                | 0                   | 0                   | 0                   | 0                   | 0                   | 0                   |\n",
       "| 100clubbuffalo.org  | TRUE                | 4                   | 0                   | 0                   | 0                   | 2                   | 0                   |\n",
       "| 101financial.com    | TRUE                | 1                   | 0                   | 0                   | 0                   | 0                   | 0                   |\n",
       "| 1099-etc.com        | TRUE                | 2                   | 0                   | 0                   | 0                   | 0                   | 0                   |\n",
       "\n"
      ],
      "text/plain": [
       "  domain_names        file_found service msp msp_full ms sp it_infr\n",
       "1 0-plus.com          TRUE       0       0   0        0  0  0      \n",
       "2 10-spec.com         TRUE       8       0   0        0  0  0      \n",
       "3 1001brickellbay.com TRUE       0       0   0        0  0  0      \n",
       "4 100clubbuffalo.org  TRUE       4       0   0        0  2  0      \n",
       "5 101financial.com    TRUE       1       0   0        0  0  0      \n",
       "6 1099-etc.com        TRUE       2       0   0        0  0  0      "
      ]
     },
     "metadata": {},
     "output_type": "display_data"
    }
   ],
   "source": [
    "head(test_files)"
   ]
  },
  {
   "cell_type": "code",
   "execution_count": 124,
   "metadata": {},
   "outputs": [],
   "source": [
    "# predict and create new dataframe of predicted values\n",
    "# add column for class prediction using .5 cutoff (revisit later)\n",
    "pred_full <- predict(rf, newdata = test_files)\n",
    "pred_full_df <- test_files %>% select(domain_names, file_found) %>%\n",
    "            mutate(pred_val = pred_full) %>%\n",
    "            mutate(pred_class = pred_val > .5)"
   ]
  },
  {
   "cell_type": "code",
   "execution_count": 125,
   "metadata": {},
   "outputs": [
    {
     "data": {
      "text/plain": [
       " domain_names       file_found        pred_val       pred_class     \n",
       " Length:27149       Mode:logical   Min.   :0.03264   Mode :logical  \n",
       " Class :character   TRUE:27149     1st Qu.:0.03265   FALSE:26780    \n",
       " Mode  :character                  Median :0.04100   TRUE :369      \n",
       "                                   Mean   :0.05446                  \n",
       "                                   3rd Qu.:0.04221                  \n",
       "                                   Max.   :1.00000                  "
      ]
     },
     "metadata": {},
     "output_type": "display_data"
    }
   ],
   "source": [
    "# 369 predicted to be MSPs with initial base model\n",
    "summary(pred_full_df)"
   ]
  },
  {
   "cell_type": "code",
   "execution_count": null,
   "metadata": {},
   "outputs": [],
   "source": []
  }
 ],
 "metadata": {
  "kernelspec": {
   "display_name": "R",
   "language": "R",
   "name": "ir"
  },
  "language_info": {
   "codemirror_mode": "r",
   "file_extension": ".r",
   "mimetype": "text/x-r-source",
   "name": "R",
   "pygments_lexer": "r",
   "version": "3.6.1"
  }
 },
 "nbformat": 4,
 "nbformat_minor": 4
}
